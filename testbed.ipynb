{
 "cells": [
  {
   "cell_type": "code",
   "execution_count": 3,
   "id": "d576f132",
   "metadata": {},
   "outputs": [],
   "source": [
    "import uuid\n",
    "import jwt"
   ]
  },
  {
   "cell_type": "code",
   "execution_count": 6,
   "id": "8addb845",
   "metadata": {},
   "outputs": [],
   "source": [
    "from backend.app.models.schema import LoginRequest,LoginResponse"
   ]
  },
  {
   "cell_type": "code",
   "execution_count": null,
   "id": "d986c941",
   "metadata": {},
   "outputs": [],
   "source": []
  }
 ],
 "metadata": {
  "kernelspec": {
   "display_name": "mcp_env",
   "language": "python",
   "name": "python3"
  },
  "language_info": {
   "codemirror_mode": {
    "name": "ipython",
    "version": 3
   },
   "file_extension": ".py",
   "mimetype": "text/x-python",
   "name": "python",
   "nbconvert_exporter": "python",
   "pygments_lexer": "ipython3",
   "version": "3.12.10"
  }
 },
 "nbformat": 4,
 "nbformat_minor": 5
}
